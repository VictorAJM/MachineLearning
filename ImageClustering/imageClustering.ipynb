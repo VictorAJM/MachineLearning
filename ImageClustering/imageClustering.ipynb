{
 "cells": [
  {
   "cell_type": "markdown",
   "metadata": {},
   "source": [
    "# Participantes: Victor Armando Jaramillo Moreno"
   ]
  },
  {
   "cell_type": "code",
   "execution_count": 48,
   "metadata": {},
   "outputs": [],
   "source": [
    "import cv2\n",
    "import numpy as np\n",
    "import matplotlib.pyplot as plt\n",
    "from mpl_toolkits.mplot3d import Axes3D\n",
    "import os\n",
    "from sklearn.cluster import KMeans"
   ]
  },
  {
   "cell_type": "code",
   "execution_count": 49,
   "metadata": {},
   "outputs": [],
   "source": [
    "beach_images = [cv2.imread(f'beach/{filename}') for filename in os.listdir('beach')]\n",
    "forest_images = [cv2.imread(f'forest/{filename}') for filename in os.listdir('forest')]"
   ]
  },
  {
   "cell_type": "code",
   "execution_count": 50,
   "metadata": {},
   "outputs": [],
   "source": [
    "def getHist(img):\n",
    "  hist,_ = np.histogramdd(img.reshape(-1,3),bins=(5,5,5),range=((0, 255), (0, 255), (0, 255)))\n",
    "  total_pixels = img.shape[0] * img.shape[1]\n",
    "  hist /= total_pixels\n",
    "  return hist.flatten()\n",
    "beach_hist = np.array(\n",
    "  [getHist(img) for img in beach_images]\n",
    ")\n",
    "forest_hist = np.array(\n",
    "  [getHist(img) for img in forest_images]\n",
    ")"
   ]
  },
  {
   "cell_type": "code",
   "execution_count": 54,
   "metadata": {},
   "outputs": [
    {
     "name": "stdout",
     "output_type": "stream",
     "text": [
      "Image 0 is predicted as Beach\n",
      "Image 1 is predicted as Beach\n",
      "Image 2 is predicted as Beach\n",
      "Image 3 is predicted as Beach\n",
      "Image 4 is predicted as Beach\n",
      "Image 5 is predicted as Beach\n",
      "Image 6 is predicted as Beach\n",
      "Image 7 is predicted as Beach\n",
      "Image 8 is predicted as Beach\n",
      "Image 9 is predicted as Beach\n",
      "Image 10 is predicted as Forest\n",
      "Image 11 is predicted as Forest\n",
      "Image 12 is predicted as Forest\n",
      "Image 13 is predicted as Forest\n",
      "Image 14 is predicted as Forest\n",
      "Image 15 is predicted as Forest\n",
      "Image 16 is predicted as Forest\n",
      "Image 17 is predicted as Forest\n",
      "Image 18 is predicted as Forest\n",
      "Image 19 is predicted as Forest\n",
      "The first 10 images belong to Beach\n",
      "The last 10 images belong to Forest\n"
     ]
    }
   ],
   "source": [
    "kmeans = KMeans(n_clusters=2)\n",
    "kmeans.fit(np.vstack((beach_hist,forest_hist)))\n",
    "\n",
    "for i, label in enumerate(kmeans.labels_):\n",
    "  if label==0:\n",
    "    print(f\"Image {i} is predicted as Beach\")\n",
    "  else:\n",
    "    print(f\"Image {i} is predicted as Forest\")\n",
    "print(\"The first 10 images belong to Beach\\nThe last 10 images belong to Forest\")"
   ]
  }
 ],
 "metadata": {
  "kernelspec": {
   "display_name": "Python 3",
   "language": "python",
   "name": "python3"
  },
  "language_info": {
   "codemirror_mode": {
    "name": "ipython",
    "version": 3
   },
   "file_extension": ".py",
   "mimetype": "text/x-python",
   "name": "python",
   "nbconvert_exporter": "python",
   "pygments_lexer": "ipython3",
   "version": "3.11.5"
  }
 },
 "nbformat": 4,
 "nbformat_minor": 2
}
